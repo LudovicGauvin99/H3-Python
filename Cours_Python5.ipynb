{
  "nbformat": 4,
  "nbformat_minor": 0,
  "metadata": {
    "colab": {
      "provenance": [],
      "authorship_tag": "ABX9TyMiDAjXq8Y99z1RZCav+YyQ",
      "include_colab_link": true
    },
    "kernelspec": {
      "name": "python3",
      "display_name": "Python 3"
    },
    "language_info": {
      "name": "python"
    }
  },
  "cells": [
    {
      "cell_type": "markdown",
      "metadata": {
        "id": "view-in-github",
        "colab_type": "text"
      },
      "source": [
        "<a href=\"https://colab.research.google.com/github/LudovicGauvin99/H3-Python/blob/main/Cours_Python5.ipynb\" target=\"_parent\"><img src=\"https://colab.research.google.com/assets/colab-badge.svg\" alt=\"Open In Colab\"/></a>"
      ]
    },
    {
      "cell_type": "code",
      "execution_count": 41,
      "metadata": {
        "colab": {
          "base_uri": "https://localhost:8080/"
        },
        "id": "aP_nUcV078Ok",
        "outputId": "409dc517-4701-4a13-9a36-9a6c7c727b76"
      },
      "outputs": [
        {
          "output_type": "stream",
          "name": "stdout",
          "text": [
            "moyenne = 3.0 chiffre au dessus : [4, 5]\n"
          ]
        }
      ],
      "source": [
        "array = [1,2,3,4,5]\n",
        "supMoyenne = []\n",
        "moyenne = 0 \n",
        "for i in range(len(array)):\n",
        "  moyenne += array[i]\n",
        "moyenne = moyenne/len(array)\n",
        "for i in range(len(array)): \n",
        "  if(array[i] > moyenne):\n",
        "    supMoyenne.append(array[i])\n",
        "\n",
        "print('moyenne =', moyenne,'chiffre au dessus :', supMoyenne )"
      ]
    }
  ]
}