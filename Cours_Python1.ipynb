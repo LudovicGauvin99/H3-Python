{
  "nbformat": 4,
  "nbformat_minor": 0,
  "metadata": {
    "colab": {
      "provenance": [],
      "authorship_tag": "ABX9TyPO6+b7ZQbx+0n94h7M4VZO",
      "include_colab_link": true
    },
    "kernelspec": {
      "name": "python3",
      "display_name": "Python 3"
    },
    "language_info": {
      "name": "python"
    }
  },
  "cells": [
    {
      "cell_type": "markdown",
      "metadata": {
        "id": "view-in-github",
        "colab_type": "text"
      },
      "source": [
        "<a href=\"https://colab.research.google.com/github/LudovicGauvin99/H3-Python/blob/main/Cours_Python1.ipynb\" target=\"_parent\"><img src=\"https://colab.research.google.com/assets/colab-badge.svg\" alt=\"Open In Colab\"/></a>"
      ]
    },
    {
      "cell_type": "code",
      "execution_count": 20,
      "metadata": {
        "colab": {
          "base_uri": "https://localhost:8080/"
        },
        "id": "aP_nUcV078Ok",
        "outputId": "038ef608-8a7c-46f2-e3a2-2556d7750143"
      },
      "outputs": [
        {
          "output_type": "stream",
          "name": "stdout",
          "text": [
            "Donne moi chiffre 1\n",
            "2\n",
            "Donne moi chiffre 2\n",
            "4\n",
            "positif\n"
          ]
        }
      ],
      "source": [
        "inputUn = input('Donne moi chiffre 1\\n')\n",
        "inputDeux = input('Donne moi chiffre 2\\n')\n",
        "\n",
        "if int(inputDeux) > 0 and int(inputUn) > 0 :\n",
        "    print('positif')\n",
        "else : \n",
        "    print ('negatif')"
      ]
    }
  ]
}