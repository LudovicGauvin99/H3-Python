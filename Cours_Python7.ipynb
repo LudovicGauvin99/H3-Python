{
  "nbformat": 4,
  "nbformat_minor": 0,
  "metadata": {
    "colab": {
      "provenance": [],
      "authorship_tag": "ABX9TyOOs50XcESxcL2lQVhL5O/z",
      "include_colab_link": true
    },
    "kernelspec": {
      "name": "python3",
      "display_name": "Python 3"
    },
    "language_info": {
      "name": "python"
    }
  },
  "cells": [
    {
      "cell_type": "markdown",
      "metadata": {
        "id": "view-in-github",
        "colab_type": "text"
      },
      "source": [
        "<a href=\"https://colab.research.google.com/github/LudovicGauvin99/H3-Python/blob/main/Cours_Python7.ipynb\" target=\"_parent\"><img src=\"https://colab.research.google.com/assets/colab-badge.svg\" alt=\"Open In Colab\"/></a>"
      ]
    },
    {
      "cell_type": "code",
      "execution_count": 47,
      "metadata": {
        "colab": {
          "base_uri": "https://localhost:8080/"
        },
        "id": "aP_nUcV078Ok",
        "outputId": "b5d412e0-d6e3-4a57-8da3-086d50cf31e0"
      },
      "outputs": [
        {
          "output_type": "stream",
          "name": "stdout",
          "text": [
            "[2, 3, 5, 6, 7]\n"
          ]
        }
      ],
      "source": [
        "array = [3,5,6,7,2]\n",
        "\n",
        "for i in range(len(array)):\n",
        "  for y in range(len(array)): \n",
        "    if(array[i] < array[y]):\n",
        "      save = array[i]\n",
        "      array[i] = array[y]\n",
        "      array[y] = save\n",
        "  \n",
        "\n",
        "print(array)"
      ]
    }
  ]
}