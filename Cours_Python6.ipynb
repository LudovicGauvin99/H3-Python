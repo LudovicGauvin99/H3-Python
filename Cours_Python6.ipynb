{
  "nbformat": 4,
  "nbformat_minor": 0,
  "metadata": {
    "colab": {
      "provenance": [],
      "authorship_tag": "ABX9TyNysQygS/iXReZ4NnxlKjSJ",
      "include_colab_link": true
    },
    "kernelspec": {
      "name": "python3",
      "display_name": "Python 3"
    },
    "language_info": {
      "name": "python"
    }
  },
  "cells": [
    {
      "cell_type": "markdown",
      "metadata": {
        "id": "view-in-github",
        "colab_type": "text"
      },
      "source": [
        "<a href=\"https://colab.research.google.com/github/LudovicGauvin99/H3-Python/blob/main/Cours_Python6.ipynb\" target=\"_parent\"><img src=\"https://colab.research.google.com/assets/colab-badge.svg\" alt=\"Open In Colab\"/></a>"
      ]
    },
    {
      "cell_type": "code",
      "execution_count": 43,
      "metadata": {
        "colab": {
          "base_uri": "https://localhost:8080/"
        },
        "id": "aP_nUcV078Ok",
        "outputId": "aea7d556-8d8f-4855-d2ab-14ca1d80f96d"
      },
      "outputs": [
        {
          "output_type": "stream",
          "name": "stdout",
          "text": [
            "[2, 4, 6, 8, 10]\n"
          ]
        }
      ],
      "source": [
        "array = [1,2,3,4,5]\n",
        "array2 = [1,2,3,4,5]\n",
        "vecteur = []\n",
        "\n",
        "for i in range(len(array)):\n",
        "  vecteur.append(array[i]+array[i])\n",
        "\n",
        "print(vecteur)"
      ]
    }
  ]
}