{
  "nbformat": 4,
  "nbformat_minor": 0,
  "metadata": {
    "colab": {
      "provenance": [],
      "history_visible": true,
      "authorship_tag": "ABX9TyNETIn+1zgLWa2stAc+QSQT",
      "include_colab_link": true
    },
    "kernelspec": {
      "name": "python3",
      "display_name": "Python 3"
    },
    "language_info": {
      "name": "python"
    }
  },
  "cells": [
    {
      "cell_type": "markdown",
      "metadata": {
        "id": "view-in-github",
        "colab_type": "text"
      },
      "source": [
        "<a href=\"https://colab.research.google.com/github/LudovicGauvin99/H3-Python/blob/main/Cours_Python8.ipynb\" target=\"_parent\"><img src=\"https://colab.research.google.com/assets/colab-badge.svg\" alt=\"Open In Colab\"/></a>"
      ]
    },
    {
      "cell_type": "code",
      "execution_count": 1,
      "metadata": {
        "colab": {
          "base_uri": "https://localhost:8080/"
        },
        "id": "aP_nUcV078Ok",
        "outputId": "12b7d867-8438-4159-dc45-b539f51c219b"
      },
      "outputs": [
        {
          "output_type": "stream",
          "name": "stdout",
          "text": [
            "donner moi un chiffre \n",
            "7\n",
            "5040\n"
          ]
        }
      ],
      "source": [
        "input = int(input('donner moi un chiffre \\n'))\n",
        "res = 1\n",
        "for i in range(1,int(input)+1):\n",
        "  res = res * i \n",
        "  \n",
        "print(res)"
      ]
    }
  ]
}