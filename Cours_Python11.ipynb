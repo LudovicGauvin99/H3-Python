{
  "nbformat": 4,
  "nbformat_minor": 0,
  "metadata": {
    "colab": {
      "provenance": [],
      "history_visible": true,
      "authorship_tag": "ABX9TyPjDfC0cy+vABh93jYqsWy4",
      "include_colab_link": true
    },
    "kernelspec": {
      "name": "python3",
      "display_name": "Python 3"
    },
    "language_info": {
      "name": "python"
    }
  },
  "cells": [
    {
      "cell_type": "markdown",
      "metadata": {
        "id": "view-in-github",
        "colab_type": "text"
      },
      "source": [
        "<a href=\"https://colab.research.google.com/github/LudovicGauvin99/H3-Python/blob/main/Cours_Python11.ipynb\" target=\"_parent\"><img src=\"https://colab.research.google.com/assets/colab-badge.svg\" alt=\"Open In Colab\"/></a>"
      ]
    },
    {
      "cell_type": "code",
      "execution_count": 1,
      "metadata": {
        "colab": {
          "base_uri": "https://localhost:8080/"
        },
        "id": "aP_nUcV078Ok",
        "outputId": "6e3f1d9a-b9db-405f-853b-0a83b2d926c9"
      },
      "outputs": [
        {
          "output_type": "stream",
          "name": "stdout",
          "text": [
            "donner moi un chiffre \n",
            "2\n",
            "[1.0, 1.5, 1.83, 2.08] \n",
            "supérieur a partir de la :  5 ème fois \n"
          ]
        }
      ],
      "source": [
        "input = int(input('donner moi un chiffre \\n'))\n",
        "tab = []\n",
        "h = 0\n",
        "k = 1\n",
        "\n",
        "while input > h :\n",
        "  h += 1/k\n",
        "  tab.append(round(h,2))\n",
        "  k += 1\n",
        "\n",
        "print(tab , '\\nsupérieur a partir de la : ' , k , 'ème fois ')"
      ]
    }
  ]
}