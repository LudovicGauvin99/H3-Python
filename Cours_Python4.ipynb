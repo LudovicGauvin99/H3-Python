{
  "nbformat": 4,
  "nbformat_minor": 0,
  "metadata": {
    "colab": {
      "provenance": [],
      "authorship_tag": "ABX9TyMpBPxQUDum60jOF9VZyCzZ",
      "include_colab_link": true
    },
    "kernelspec": {
      "name": "python3",
      "display_name": "Python 3"
    },
    "language_info": {
      "name": "python"
    }
  },
  "cells": [
    {
      "cell_type": "markdown",
      "metadata": {
        "id": "view-in-github",
        "colab_type": "text"
      },
      "source": [
        "<a href=\"https://colab.research.google.com/github/LudovicGauvin99/H3-Python/blob/main/Cours_Python4.ipynb\" target=\"_parent\"><img src=\"https://colab.research.google.com/assets/colab-badge.svg\" alt=\"Open In Colab\"/></a>"
      ]
    },
    {
      "cell_type": "code",
      "execution_count": 33,
      "metadata": {
        "colab": {
          "base_uri": "https://localhost:8080/"
        },
        "id": "aP_nUcV078Ok",
        "outputId": "26657d0a-3af9-4dbd-dbb6-20353d2e1cce"
      },
      "outputs": [
        {
          "output_type": "stream",
          "name": "stdout",
          "text": [
            "Le plus grand = 9 sa position dans le tableau = 5 eme\n"
          ]
        }
      ],
      "source": [
        "array = [3,6,5,2,9,4,7]\n",
        "grand = 0 \n",
        "position = 0\n",
        "for i in range(len(array)):\n",
        "  if(array[i] > grand):\n",
        "    grand = array[i]\n",
        "    position = i \n",
        "position += 1 \n",
        "print('Le plus grand =',grand ,'sa position dans le tableau =',position,'eme')"
      ]
    }
  ]
}