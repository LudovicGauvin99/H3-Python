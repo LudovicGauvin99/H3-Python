{
  "nbformat": 4,
  "nbformat_minor": 0,
  "metadata": {
    "colab": {
      "provenance": [],
      "history_visible": true,
      "authorship_tag": "ABX9TyOzefXaGzi6kFPPdPlPdfRm",
      "include_colab_link": true
    },
    "kernelspec": {
      "name": "python3",
      "display_name": "Python 3"
    },
    "language_info": {
      "name": "python"
    }
  },
  "cells": [
    {
      "cell_type": "markdown",
      "metadata": {
        "id": "view-in-github",
        "colab_type": "text"
      },
      "source": [
        "<a href=\"https://colab.research.google.com/github/LudovicGauvin99/H3-Python/blob/main/Cours_Python9.ipynb\" target=\"_parent\"><img src=\"https://colab.research.google.com/assets/colab-badge.svg\" alt=\"Open In Colab\"/></a>"
      ]
    },
    {
      "cell_type": "code",
      "execution_count": 6,
      "metadata": {
        "colab": {
          "base_uri": "https://localhost:8080/"
        },
        "id": "aP_nUcV078Ok",
        "outputId": "5e119efb-377d-4a51-8e90-eef10a6913ee"
      },
      "outputs": [
        {
          "output_type": "stream",
          "name": "stdout",
          "text": [
            "[[14, 16], [28, 32]]\n"
          ]
        }
      ],
      "source": [
        "tab1 = [1,2],[3,4]\n",
        "tab2 = [5,6],[7,8]\n",
        "\n",
        "res = [[0]*len(tab2[0]) for i in range(len(tab1))]\n",
        "\n",
        "for i in range(len(tab1)):\n",
        "  for j in range(len(tab2[0])):\n",
        "    for k in range(len(tab2)):\n",
        "      res[i][j] = tab1[i][k]*tab2[k][j]\n",
        "\n",
        "print(res)"
      ]
    }
  ]
}