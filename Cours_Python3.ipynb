{
  "nbformat": 4,
  "nbformat_minor": 0,
  "metadata": {
    "colab": {
      "provenance": [],
      "authorship_tag": "ABX9TyPZhYSuiokExjoPjgwNx+nD",
      "include_colab_link": true
    },
    "kernelspec": {
      "name": "python3",
      "display_name": "Python 3"
    },
    "language_info": {
      "name": "python"
    }
  },
  "cells": [
    {
      "cell_type": "markdown",
      "metadata": {
        "id": "view-in-github",
        "colab_type": "text"
      },
      "source": [
        "<a href=\"https://colab.research.google.com/github/LudovicGauvin99/H3-Python/blob/main/Cours_Python3.ipynb\" target=\"_parent\"><img src=\"https://colab.research.google.com/assets/colab-badge.svg\" alt=\"Open In Colab\"/></a>"
      ]
    },
    {
      "cell_type": "code",
      "execution_count": 28,
      "metadata": {
        "colab": {
          "base_uri": "https://localhost:8080/"
        },
        "id": "aP_nUcV078Ok",
        "outputId": "81780b44-5097-4eb5-92ec-e565d20ece28"
      },
      "outputs": [
        {
          "output_type": "stream",
          "name": "stdout",
          "text": [
            "225\n"
          ]
        }
      ],
      "source": [
        "array = [1,2,3,4,5]\n",
        "array2 = [1,2,3,4,5]\n",
        "res = 0 \n",
        "for i in range(len(array)):\n",
        "  for y in range(len(array2)):\n",
        "    res = array[i] * array2[y] + res\n",
        "print(res)"
      ]
    }
  ]
}