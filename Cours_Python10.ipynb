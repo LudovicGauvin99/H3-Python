{
  "nbformat": 4,
  "nbformat_minor": 0,
  "metadata": {
    "colab": {
      "provenance": [],
      "history_visible": true,
      "authorship_tag": "ABX9TyOEasEruqZrStpYwpNtjE59",
      "include_colab_link": true
    },
    "kernelspec": {
      "name": "python3",
      "display_name": "Python 3"
    },
    "language_info": {
      "name": "python"
    }
  },
  "cells": [
    {
      "cell_type": "markdown",
      "metadata": {
        "id": "view-in-github",
        "colab_type": "text"
      },
      "source": [
        "<a href=\"https://colab.research.google.com/github/LudovicGauvin99/H3-Python/blob/main/Cours_Python10.ipynb\" target=\"_parent\"><img src=\"https://colab.research.google.com/assets/colab-badge.svg\" alt=\"Open In Colab\"/></a>"
      ]
    },
    {
      "cell_type": "code",
      "execution_count": 1,
      "metadata": {
        "colab": {
          "base_uri": "https://localhost:8080/"
        },
        "id": "aP_nUcV078Ok",
        "outputId": "c7380382-3883-484f-ffa9-42434b209a7f"
      },
      "outputs": [
        {
          "output_type": "stream",
          "name": "stdout",
          "text": [
            "donner moi un chiffre \n",
            "7\n",
            "[1, 1, 2, 3, 5, 8, 13]\n"
          ]
        }
      ],
      "source": [
        "input = input('donner moi un chiffre \\n')\n",
        "tab = []\n",
        "for i in range(int(input)):\n",
        "  if i <= 1 : \n",
        "    tab.append(1)\n",
        "  else :\n",
        "    res = tab[i-2] + tab[i-1]\n",
        "    tab.append(res)\n",
        "\n",
        "print(tab)"
      ]
    }
  ]
}